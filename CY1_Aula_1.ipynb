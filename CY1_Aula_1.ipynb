{
 "cells": [
  {
   "cell_type": "markdown",
   "id": "139af240",
   "metadata": {},
   "source": [
    "### Objetivos:\n",
    "Entender conceitos básicos sobre programação;\n",
    "\n",
    "Conhecer a linguagem Python;\n",
    "\n",
    "Criar seu primeiro programa em Python.\n",
    "\n",
    "\n",
    "### Algoritmo\n",
    "Algoritmo é simplesmente uma \"receita\" para fazer uma série de atividades. \n",
    "Como toda receita, um algoritmo também deve ser constituído por início, meio e fim. \n",
    "Se você seguir uma receita de bolo corretamente, conseguirá fazê-lo com sucesso.\n",
    "\n",
    "Um programa é a escrita de algoritmos em qualquer linguagem computacional, \n",
    "em que os “textos” criados ao longo deste processo de escrita são armazenados em arquivos chamados de código-fonte.\n",
    "\n",
    "**Python** é uma linguagem de programação de alto nível, lançada por Guido van Rossum em 1991. \n",
    "O nome vem do gosto de seu criador pelo grupo de humoristas britânicos chamado Monty Python.\n",
    "\n",
    "### Atalhos\n",
    "Shift+Enter: executa a célula selecionada ou seleciona a célula abaixo.\n",
    "\n",
    "Alt+Enter: executa a célula selecionada e adiciona uma linha de código abaixo.\n",
    "\n",
    "D (duas vezes): elimina a linha selecionada.\n",
    "\n",
    "Tab: autocompletar código.\n",
    "\n",
    "### Variáveis\n",
    "As variáveis são espaços na memória do computador que armazenam valores ou expressões, sendo associadas a “nomes” para facilitar seu acesso. Você pode imaginar que o seu computador é um grande armário e cada gaveta dele é uma variável que é rotulada com um nome.\n",
    "\n",
    "Os nomes que você usa ao criar esses rótulos de variáveis em Python precisam seguir algumas regras:\n",
    "\n",
    "Os nomes não podem começar com um número;\n",
    "\n",
    "Não pode haver espaços no nome. Use o underline (“_”) em vez da barra de espaço;\n",
    "\n",
    "Não é possível usar nenhum destes símbolos: '\", <> /? | \\ ()! @ # $% ^ & * ~ - +;\n",
    "\n",
    "Os nomes sempre devem iniciar com a letra minúscula.\n"
   ]
  },
  {
   "cell_type": "code",
   "execution_count": 1,
   "id": "1b763fa3",
   "metadata": {},
   "outputs": [
    {
     "data": {
      "text/plain": [
       "30"
      ]
     },
     "execution_count": 1,
     "metadata": {},
     "output_type": "execute_result"
    }
   ],
   "source": [
    "25+5"
   ]
  },
  {
   "cell_type": "code",
   "execution_count": 24,
   "id": "75073402",
   "metadata": {},
   "outputs": [
    {
     "name": "stdout",
     "output_type": "stream",
     "text": [
      "Olá Ctrl+Play\n"
     ]
    }
   ],
   "source": [
    "# isto é um comentário\n",
    "print('Olá Ctrl+Play')"
   ]
  },
  {
   "cell_type": "code",
   "execution_count": 7,
   "id": "19830711",
   "metadata": {},
   "outputs": [
    {
     "data": {
      "text/plain": [
       "float"
      ]
     },
     "execution_count": 7,
     "metadata": {},
     "output_type": "execute_result"
    }
   ],
   "source": [
    "type (1.4)"
   ]
  },
  {
   "cell_type": "code",
   "execution_count": 8,
   "id": "474b78f9",
   "metadata": {},
   "outputs": [
    {
     "data": {
      "text/plain": [
       "int"
      ]
     },
     "execution_count": 8,
     "metadata": {},
     "output_type": "execute_result"
    }
   ],
   "source": [
    "type (3)"
   ]
  },
  {
   "cell_type": "code",
   "execution_count": 10,
   "id": "e9719908",
   "metadata": {},
   "outputs": [
    {
     "data": {
      "text/plain": [
       "5"
      ]
     },
     "execution_count": 10,
     "metadata": {},
     "output_type": "execute_result"
    }
   ],
   "source": [
    "#adição\n",
    "1+4"
   ]
  },
  {
   "cell_type": "code",
   "execution_count": 11,
   "id": "35411ff9",
   "metadata": {},
   "outputs": [
    {
     "data": {
      "text/plain": [
       "2"
      ]
     },
     "execution_count": 11,
     "metadata": {},
     "output_type": "execute_result"
    }
   ],
   "source": [
    "#subtração\n",
    "5-3"
   ]
  },
  {
   "cell_type": "code",
   "execution_count": 19,
   "id": "d7855ede",
   "metadata": {},
   "outputs": [
    {
     "data": {
      "text/plain": [
       "20"
      ]
     },
     "execution_count": 19,
     "metadata": {},
     "output_type": "execute_result"
    }
   ],
   "source": [
    "#variável\n",
    "numero = 10\n",
    "numero + numero"
   ]
  },
  {
   "cell_type": "code",
   "execution_count": 2,
   "id": "f732285e",
   "metadata": {},
   "outputs": [
    {
     "name": "stdout",
     "output_type": "stream",
     "text": [
      "30\n"
     ]
    }
   ],
   "source": [
    "# redefinindo uma variável\n",
    "numero = 10\n",
    "numero + numero\n",
    "numero = 30\n",
    "print(numero)"
   ]
  },
  {
   "cell_type": "code",
   "execution_count": 4,
   "id": "1a2a0747",
   "metadata": {},
   "outputs": [
    {
     "name": "stdout",
     "output_type": "stream",
     "text": [
      "10\n"
     ]
    }
   ],
   "source": [
    "Numero = 10\n",
    "print(Numero)"
   ]
  },
  {
   "cell_type": "code",
   "execution_count": 21,
   "id": "b5b2980f",
   "metadata": {},
   "outputs": [
    {
     "name": "stdout",
     "output_type": "stream",
     "text": [
      "Área do quadrado =  9\n",
      "Perímetro do quadrado =  12\n",
      "Área do retângulo =  15\n",
      "Perímetro do retângulo =  16\n",
      "Área do triângulo =  6.0\n",
      "Perímetro do retângulo =  12\n",
      "Área do losango =  40.0\n",
      "Perímetro do losango =  24\n"
     ]
    }
   ],
   "source": [
    "# Desafio 1\n",
    "\n",
    "# Quadrado de lados 'a'\n",
    "a = 3\n",
    "area_quadrado = a**2\n",
    "perimetro_quadrado = 4*a\n",
    "print('Área do quadrado = ', area_quadrado)\n",
    "print('Perímetro do quadrado = ',perimetro_quadrado)\n",
    "\n",
    "# Retângulo de lados 'a' e 'b'\n",
    "a = 5\n",
    "b = 3\n",
    "area_quadrado = a * b\n",
    "perimetro_quadrado = 2*a + 2*b\n",
    "print('Área do retângulo = ', area_quadrado)\n",
    "print('Perímetro do retângulo = ', perimetro_quadrado)\n",
    "\n",
    "# Triângulo retângulo de altura 'a', base 'b' e lado 'c'\n",
    "a = 3\n",
    "b = 4\n",
    "c = 5\n",
    "area_triangulo = (b * a)/2\n",
    "perimetro_triangulo = a + b + c\n",
    "print('Área do triângulo = ', area_triangulo)\n",
    "print('Perímetro do retângulo = ',perimetro_triangulo)\n",
    "\n",
    "# Losango de Diagonal 'D' e diagonal 'd' e lado 'a'\n",
    "D = 10\n",
    "d = 8\n",
    "a = 6\n",
    "area_losango = (D * d)/2\n",
    "perimetro_losango = 4*a\n",
    "print('Área do losango = ', area_losango)\n",
    "print('Perímetro do losango = ',perimetro_losango)\n",
    "\n",
    "# Trapézio\n",
    "\n",
    "\n",
    "\n"
   ]
  },
  {
   "cell_type": "code",
   "execution_count": 9,
   "id": "737457ed",
   "metadata": {},
   "outputs": [
    {
     "name": "stdout",
     "output_type": "stream",
     "text": [
      "Qual o montante de dinheiro aplicado: 1000\n",
      "Digite o número de meses para calcular o rendimento: 1\n",
      "Qual o rendimento da poupança atual em: [%]0.6\n",
      "O rendimento da poupança será de: R$ 6.00\n"
     ]
    }
   ],
   "source": [
    "# Desafio 2\n",
    "# Faça um programa que recebe um valor inteiro referente a um montante de dinheiro, \n",
    "# imprime o rendimento da poupança sobre esse montante em X meses, onde X é um valor \n",
    "# inteiro armazenado em uma variável.\n",
    "\n",
    "dinheiro = float(input('Qual o montante de dinheiro aplicado: ')) \n",
    "x = int(input('Digite o número de meses para calcular o rendimento: '))\n",
    "tax_poup = float(input('Qual o rendimento da poupança atual em: [%]'))\n",
    "rend = dinheiro * x * (tax_poup / 100)\n",
    "print('O rendimento da poupança será de: R$ {:.2f}'.format(rend))\n",
    "\n",
    "\n",
    "\n",
    "\n",
    "\n"
   ]
  },
  {
   "cell_type": "code",
   "execution_count": 5,
   "id": "c5de7609",
   "metadata": {},
   "outputs": [
    {
     "name": "stdout",
     "output_type": "stream",
     "text": [
      "1\n",
      "20\n",
      "30\n",
      "NUMBER = 1\n",
      "SALARY = U$ 600.00\n"
     ]
    }
   ],
   "source": [
    "# Desafio 3 Salário\n",
    "\n",
    "numero_funcionario = int(input())\n",
    "horas_trabalhadas = int(input())\n",
    "salario_hora = float(input())\n",
    "salario = horas_trabalhadas * salario_hora\n",
    "print('NUMBER = {}'.format(numero_funcionario))\n",
    "print('SALARY = U$ {:.2f}'.format(salario))"
   ]
  },
  {
   "cell_type": "code",
   "execution_count": 1,
   "id": "8d1c4dd3",
   "metadata": {},
   "outputs": [
    {
     "name": "stdout",
     "output_type": "stream",
     "text": [
      "Digite um número: 2\n",
      "O seu antecessor é 1 e o seu sucessor é 3.\n"
     ]
    }
   ],
   "source": [
    "# Tarefa para casa: Faça um programa que mostre na tela o sucessor e o antecessor de um número inteiro.\n",
    "\n",
    "n = int(input('Digite um número: '))\n",
    "print('O seu antecessor é {} e o seu sucessor é {}.'.format(n-1, n+1))"
   ]
  },
  {
   "cell_type": "code",
   "execution_count": 3,
   "id": "3fdb64ed",
   "metadata": {},
   "outputs": [
    {
     "name": "stdout",
     "output_type": "stream",
     "text": [
      "Digite um número: 1\n",
      "0 2\n",
      "O seu antecessor é 0 e o seu sucessor é 2.\n"
     ]
    }
   ],
   "source": [
    "# Tarefa para casa: Faça um programa que mostre na tela o sucessor e o antecessor de um número inteiro.\n",
    "\n",
    "n = int(input('Digite um número: '))\n",
    "ant = n - 1\n",
    "suc = n + 1\n",
    "print(ant, suc)\n",
    "print('O seu antecessor é {} e o seu sucessor é {}.'.format(n-1, n+1))"
   ]
  }
 ],
 "metadata": {
  "kernelspec": {
   "display_name": "Python 3 (ipykernel)",
   "language": "python",
   "name": "python3"
  },
  "language_info": {
   "codemirror_mode": {
    "name": "ipython",
    "version": 3
   },
   "file_extension": ".py",
   "mimetype": "text/x-python",
   "name": "python",
   "nbconvert_exporter": "python",
   "pygments_lexer": "ipython3",
   "version": "3.11.5"
  }
 },
 "nbformat": 4,
 "nbformat_minor": 5
}
