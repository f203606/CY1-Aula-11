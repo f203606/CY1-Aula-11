{
 "cells": [
  {
   "cell_type": "code",
   "execution_count": 2,
   "id": "b079ef2e",
   "metadata": {},
   "outputs": [
    {
     "name": "stdout",
     "output_type": "stream",
     "text": [
      "Olá, Mundo!\n",
      "Hello, World\n"
     ]
    }
   ],
   "source": [
    "print('Olá, Mundo!')\n",
    "print('Hello, World!')\n",
    "# Linha adicionada 19/jul/2024\n",
    "# Linha adicionada com branch conteúdo"
   ]
  }
 ],
 "metadata": {
  "kernelspec": {
   "display_name": "Python 3 (ipykernel)",
   "language": "python",
   "name": "python3"
  },
  "language_info": {
   "codemirror_mode": {
    "name": "ipython",
    "version": 3
   },
   "file_extension": ".py",
   "mimetype": "text/x-python",
   "name": "python",
   "nbconvert_exporter": "python",
   "pygments_lexer": "ipython3",
   "version": "3.11.5"
  }
 },
 "nbformat": 4,
 "nbformat_minor": 5
}
