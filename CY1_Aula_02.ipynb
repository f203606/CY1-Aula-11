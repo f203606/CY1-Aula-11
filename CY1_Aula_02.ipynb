{
 "cells": [
  {
   "cell_type": "markdown",
   "id": "c74f2655",
   "metadata": {},
   "source": [
    "### Objetivos da aula\n",
    "Manipular strings\n",
    "\n",
    "Realizar operações em textos\n",
    "\n",
    "Receber dados do teclado do usuário\n",
    "\n",
    "### Strings\n",
    "As strings são tipos de objetos em Python que são usados para registrar informações de texto, como nomes e endereços. Esses objetos são tratados como sequências de caracteres."
   ]
  },
  {
   "cell_type": "code",
   "execution_count": 2,
   "id": "d8f067d3",
   "metadata": {},
   "outputs": [
    {
     "name": "stdout",
     "output_type": "stream",
     "text": [
      "Olá!\n",
      "Olá, tudo bem?\n",
      "Ctrl+Play - Escola de Programação de Robótica\n"
     ]
    }
   ],
   "source": [
    "# Uma palavra\n",
    "string1 = 'Olá!'\n",
    "\n",
    "#Uma frase\n",
    "string2 = 'Olá, tudo bem?'\n",
    "\n",
    "# com aspas duplas\n",
    "string3 = \"Ctrl+Play - Escola de Programação de Robótica\"\n",
    "\n",
    "print(string1)\n",
    "print(string2)\n",
    "print(string3)"
   ]
  },
  {
   "cell_type": "code",
   "execution_count": 3,
   "id": "28cc1cfb",
   "metadata": {},
   "outputs": [
    {
     "name": "stdout",
     "output_type": "stream",
     "text": [
      "teste\n",
      "teste\n"
     ]
    },
    {
     "data": {
      "text/plain": [
       "'teste'"
      ]
     },
     "execution_count": 3,
     "metadata": {},
     "output_type": "execute_result"
    }
   ],
   "source": [
    "# 3 formas de imprimir uma string\n",
    "string4 = 'teste'\n",
    "print(string4)\n",
    "print('teste')\n",
    "'teste'"
   ]
  },
  {
   "cell_type": "code",
   "execution_count": 3,
   "id": "b00cc112",
   "metadata": {},
   "outputs": [
    {
     "name": "stdout",
     "output_type": "stream",
     "text": [
      "Santando \n",
      " linhas\n"
     ]
    }
   ],
   "source": [
    "#  Utilizando \\n para saltar linhas\n",
    "print('Santando \\n linhas')"
   ]
  },
  {
   "cell_type": "code",
   "execution_count": 4,
   "id": "12406197",
   "metadata": {},
   "outputs": [
    {
     "name": "stdout",
     "output_type": "stream",
     "text": [
      "Acrescentando \t espaços maiores\n"
     ]
    }
   ],
   "source": [
    "# Utilizando \\t para acrescentar espaços maiores\n",
    "print('Acrescentando \\t espaços maiores')"
   ]
  },
  {
   "cell_type": "code",
   "execution_count": 14,
   "id": "0f6b03e7",
   "metadata": {},
   "outputs": [
    {
     "name": "stdout",
     "output_type": "stream",
     "text": [
      "Escola\n"
     ]
    }
   ],
   "source": [
    "# Indexação de uma string\n",
    "frase = 'Ctrl+Play - Escola de Programação e Robótica'\n",
    "print(frase[12:18])"
   ]
  },
  {
   "cell_type": "code",
   "execution_count": 4,
   "id": "d8f269fe",
   "metadata": {},
   "outputs": [
    {
     "data": {
      "text/plain": [
       "44"
      ]
     },
     "execution_count": 4,
     "metadata": {},
     "output_type": "execute_result"
    }
   ],
   "source": [
    "# Contador de caracteres len()\n",
    "frase = 'Ctrl+Play - Escola de Programação e Robótica'\n",
    "len(frase)"
   ]
  },
  {
   "cell_type": "code",
   "execution_count": 11,
   "id": "917e7f34",
   "metadata": {},
   "outputs": [
    {
     "name": "stdout",
     "output_type": "stream",
     "text": [
      "Cr+ly-Ecl ePormçoeRbtc\n"
     ]
    }
   ],
   "source": [
    "#Saltando de 2 em 2 letras\n",
    "frase = 'Ctrl+Play - Escola de Programação e Robótica'\n",
    "print(nome[::2])"
   ]
  },
  {
   "cell_type": "code",
   "execution_count": 12,
   "id": "ced9b0bf",
   "metadata": {},
   "outputs": [
    {
     "name": "stdout",
     "output_type": "stream",
     "text": [
      "17\n"
     ]
    }
   ],
   "source": [
    "# Função find()\n",
    "email = 'curitibacapaoraso@ctrlplay.com.br'\n",
    "print(email.find('@'))"
   ]
  },
  {
   "cell_type": "code",
   "execution_count": 13,
   "id": "cfc793a4",
   "metadata": {},
   "outputs": [
    {
     "name": "stdout",
     "output_type": "stream",
     "text": [
      "2\n"
     ]
    }
   ],
   "source": [
    "# Função count()\n",
    "email = 'curitiba@ctrlplay.com.br'\n",
    "print(email.count('.'))"
   ]
  },
  {
   "cell_type": "code",
   "execution_count": 32,
   "id": "19413444",
   "metadata": {},
   "outputs": [
    {
     "name": "stdout",
     "output_type": "stream",
     "text": [
      "JoséBond\n",
      "JoséJoséJoséJoséJoséJoséJosé\n"
     ]
    }
   ],
   "source": [
    "# Concatenação e repetição\n",
    "nome = 'José'\n",
    "sobrenome = 'Bond'\n",
    "print(nome + sobrenome)\n",
    "print(nome * 7)"
   ]
  },
  {
   "cell_type": "code",
   "execution_count": 18,
   "id": "f49e4b68",
   "metadata": {},
   "outputs": [
    {
     "name": "stdout",
     "output_type": "stream",
     "text": [
      "       CTRL+PLAY - ESCOLA DE PROGRAMAÇÃO E ROBÓTICA       \n",
      "       ctrl+play - escola de programação e robótica       \n",
      "['Ctrl+Play', '-', 'Escola', 'de', 'Programação', 'e', 'Robótica']\n",
      "Ctrl+Play - Escola de Programação e Robótica\n"
     ]
    }
   ],
   "source": [
    "# Métodos\n",
    "frase = '       Ctrl+Play - Escola de Programação e Robótica       '\n",
    "print(frase.upper())\n",
    "print(frase.lower())\n",
    "print(frase.split())\n",
    "print(frase.strip())"
   ]
  },
  {
   "cell_type": "code",
   "execution_count": 27,
   "id": "337544d4",
   "metadata": {},
   "outputs": [
    {
     "name": "stdout",
     "output_type": "stream",
     "text": [
      "Qual é o seu nome? André\n",
      "Olá, André ! Prazer em te conhecer!\n"
     ]
    }
   ],
   "source": [
    "# Entrada de dados\n",
    "nome = input('Qual é o seu nome? ')\n",
    "print('Olá,',nome,'! Prazer em te conhecer!')"
   ]
  },
  {
   "cell_type": "code",
   "execution_count": 39,
   "id": "bf82859b",
   "metadata": {},
   "outputs": [
    {
     "name": "stdout",
     "output_type": "stream",
     "text": [
      "Qual o seu nome? Goku\n",
      "Prazer em te conhecer, Goku!\n",
      "Prazer em te conhecer, Goku                !\n",
      "Prazer em te conhecer, Goku                !\n",
      "Prazer em te conhecer,                 Goku!\n",
      "Prazer em te conhecer,         Goku        !\n",
      "Prazer em te conhecer, ========Goku========!\n"
     ]
    }
   ],
   "source": [
    "# formatação\n",
    "nome = input('Qual o seu nome? ')\n",
    "print('Prazer em te conhecer, {}!'.format(nome))\n",
    "print('Prazer em te conhecer, {:20}!'.format(nome))\n",
    "print('Prazer em te conhecer, {:<20}!'.format(nome))\n",
    "print('Prazer em te conhecer, {:>20}!'.format(nome))\n",
    "print('Prazer em te conhecer, {:^20}!'.format(nome))\n",
    "print('Prazer em te conhecer, {:=^20}!'.format(nome))"
   ]
  },
  {
   "cell_type": "code",
   "execution_count": 14,
   "id": "1e1fab0b",
   "metadata": {},
   "outputs": [
    {
     "name": "stdout",
     "output_type": "stream",
     "text": [
      "espaços em branco =  6\n",
      "a =  5\n",
      "e =  3\n",
      "i =  1\n",
      "o =  4\n",
      "u =  0\n"
     ]
    }
   ],
   "source": [
    "#Desafio\n",
    "frase = 'Ctrl+Play - Escola de Programação e Robótica'\n",
    "print('espaços em branco = ',frase.count(' '))\n",
    "print('a = ',frase.lower().count('a'))\n",
    "print('e = ',frase.lower().count('e'))\n",
    "print('i = ',frase.lower().count('i'))\n",
    "print('o = ',frase.lower().count('o'))\n",
    "print('u = ',frase.lower().count('u'))"
   ]
  },
  {
   "cell_type": "code",
   "execution_count": 2,
   "id": "7e08691a",
   "metadata": {},
   "outputs": [
    {
     "name": "stdout",
     "output_type": "stream",
     "text": [
      "C\n",
      "t\n",
      "r\n",
      "l\n",
      "+\n",
      "P\n",
      "l\n",
      "a\n",
      "y\n"
     ]
    }
   ],
   "source": [
    "#Desafio 1a\n",
    "frase = 'Ctrl+Play'\n",
    "print(frase[0:1])\n",
    "print(frase[1:2])\n",
    "print(frase[2:3])\n",
    "print(frase[3:4])\n",
    "print(frase[4:5])\n",
    "print(frase[5:6])\n",
    "print(frase[6:7])\n",
    "print(frase[7:8])\n",
    "print(frase[8:9])\n"
   ]
  },
  {
   "cell_type": "code",
   "execution_count": 22,
   "id": "2ebfb16c",
   "metadata": {},
   "outputs": [
    {
     "name": "stdout",
     "output_type": "stream",
     "text": [
      "C\n",
      "Ct\n",
      "Ctr\n",
      "Ctrl\n",
      "Ctrl+\n",
      "Ctrl+P\n",
      "Ctrl+Pl\n",
      "Ctrl+Pla\n",
      "Ctrl+Play\n"
     ]
    }
   ],
   "source": [
    "#Desafio 1b\n",
    "frase = 'Ctrl+Play'\n",
    "print(frase[:1])\n",
    "print(frase[:2])\n",
    "print(frase[:3])\n",
    "print(frase[:4])\n",
    "print(frase[:5])\n",
    "print(frase[:6])\n",
    "print(frase[:7])\n",
    "print(frase[:8])\n",
    "print(frase[:9])"
   ]
  },
  {
   "cell_type": "code",
   "execution_count": 20,
   "id": "3abb613c",
   "metadata": {},
   "outputs": [
    {
     "name": "stdout",
     "output_type": "stream",
     "text": [
      "Digite o seu nome: André Ferreira de Souza\n",
      "André\n",
      "Ferreira de Souza\n",
      "Souza\n"
     ]
    }
   ],
   "source": [
    "#Desafio 2\n",
    "nome = input('Digite o seu nome: ').strip()\n",
    "primeiro = nome.find(' ')\n",
    "ultimo = nome.rfind(' ')\n",
    "print(nome[:primeiro].strip())\n",
    "print(nome[primeiro+1:].strip())\n",
    "print(nome[ultimo+1:].strip())"
   ]
  },
  {
   "cell_type": "code",
   "execution_count": 4,
   "id": "fb18e4eb",
   "metadata": {},
   "outputs": [
    {
     "name": "stdout",
     "output_type": "stream",
     "text": [
      "Digite o nome de uma cidade:   santo andré\n",
      " A cidade começa com Santo? True\n"
     ]
    }
   ],
   "source": [
    "# Tarefa de casa\n",
    "\n",
    "'''Crie um programa em Python que leia o nome de uma cidade diga se ela começa ou não com o nome “SANTO”,\n",
    "utilizando os comandos vistos em sala (input, print, indexação de string. O programa pode ser escrito em \n",
    "uma folha à parte ou na interface de programação Jupyter (Anaconda).'''\n",
    "\n",
    "city = input('Digite o nome de uma cidade: ').strip()\n",
    "print(\" A cidade começa com Santo? {}\".format(city[:5].upper() == 'SANTO'))"
   ]
  }
 ],
 "metadata": {
  "kernelspec": {
   "display_name": "Python 3 (ipykernel)",
   "language": "python",
   "name": "python3"
  },
  "language_info": {
   "codemirror_mode": {
    "name": "ipython",
    "version": 3
   },
   "file_extension": ".py",
   "mimetype": "text/x-python",
   "name": "python",
   "nbconvert_exporter": "python",
   "pygments_lexer": "ipython3",
   "version": "3.11.5"
  }
 },
 "nbformat": 4,
 "nbformat_minor": 5
}
