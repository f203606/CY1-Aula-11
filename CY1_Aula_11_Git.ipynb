{
 "cells": [
  {
   "cell_type": "code",
   "execution_count": null,
   "id": "b079ef2e",
   "metadata": {},
   "outputs": [
    {
     "name": "stdout",
     "output_type": "stream",
     "text": [
      "Olá, Mundo!\n",
      "Hello, World\n"
     ]
    }
   ],
   "source": [
    "print('Olá, Mundo!')\n",
    "print('Hello, World!')\n",
    "\n",
    "#Linha adicionada 01/08\n",
    "#Linha adicionada 19/jul/2024\n",
    "#Linha adicionada 23/jul/2024 na branch design\n",
    "#linha adicionada no gitHub.dev na branch design 09:49\n",
    "#linha adicionada no gitHub.dev na branch\n",
    "#linha adicionada no gitHub.dev na branch design 10:03\n",
    "#linha adicionada no gitHub.dev na branch design 10:07\n",
    "#linha adicionada na branch design 07/08/2024 22:35"
   ]
  }
 ],
 "metadata": {
  "kernelspec": {
   "display_name": "Python 3 (ipykernel)",
   "language": "python",
   "name": "python3"
  },
  "language_info": {
   "codemirror_mode": {
    "name": "ipython",
    "version": 3
   },
   "file_extension": ".py",
   "mimetype": "text/x-python",
   "name": "python",
   "nbconvert_exporter": "python",
   "pygments_lexer": "ipython3",
   "version": "3.11.5"
  }
 },
 "nbformat": 4,
 "nbformat_minor": 5
}
