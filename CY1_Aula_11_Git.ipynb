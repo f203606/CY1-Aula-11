{
 "cells": [
  {
   "cell_type": "code",
   "execution_count": null,
   "id": "b079ef2e",
   "metadata": {},
   "outputs": [
    {
     "name": "stdout",
     "output_type": "stream",
     "text": [
      "Olá, Mundo!\n",
      "Hello, World\n"
     ]
    }
   ],
   "source": [
    "print('Olá, Mundo!')\n",
    "print('Hello, World!')\n",
    "\n",
    "#Linha adicionada 01/08\n",
    "#Linha adicionada 19/jul/2024\n",
    "#Linha adicionada 23/jul/2024 na branch design\n",
    "#Linha adicionada no final da aula\n",
    "#Linha adicionada no editor vscode\n",
    "#linha adicionada no editor vs code 09:27\n",
    "#linha adicionada no editor vs code 09:33\n",
    "#linha adicionada no editor gitHub.dev 09:35\n",
    "#linha adicionada no editor gitHub.dev 09:38\n",
    "#linha adicionada no editor gitHub.dev 09:40"
   ]
  }
 ],
 "metadata": {
  "kernelspec": {
   "display_name": "Python 3 (ipykernel)",
   "language": "python",
   "name": "python3"
  },
  "language_info": {
   "codemirror_mode": {
    "name": "ipython",
    "version": 3
   },
   "file_extension": ".py",
   "mimetype": "text/x-python",
   "name": "python",
   "nbconvert_exporter": "python",
   "pygments_lexer": "ipython3",
   "version": "3.11.5"
  }
 },
 "nbformat": 4,
 "nbformat_minor": 5
}
