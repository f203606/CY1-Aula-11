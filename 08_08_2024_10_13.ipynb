{
 "cells": [
  {
   "cell_type": "code",
   "execution_count": 1,
   "id": "9de7587d",
   "metadata": {},
   "outputs": [
    {
     "name": "stdout",
     "output_type": "stream",
     "text": [
      "08/08/2024 10:13\n"
     ]
    }
   ],
   "source": [
    "print('08/08/2024 10:13')\n",
    "#analisar task 1 10:43\n",
    "#analisar task 2 10:50 \n",
    "#aprovada task 2 10:52\n",
    "#analisar task 3 08/08/2024 14:27\n",
    "#analisar task 4 08/08/2024 14:39"
   ]
  }
 ],
 "metadata": {
  "kernelspec": {
   "display_name": "Python 3 (ipykernel)",
   "language": "python",
   "name": "python3"
  },
  "language_info": {
   "codemirror_mode": {
    "name": "ipython",
    "version": 3
   },
   "file_extension": ".py",
   "mimetype": "text/x-python",
   "name": "python",
   "nbconvert_exporter": "python",
   "pygments_lexer": "ipython3",
   "version": "3.11.5"
  }
 },
 "nbformat": 4,
 "nbformat_minor": 5
}
